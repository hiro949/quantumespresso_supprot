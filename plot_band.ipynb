{
 "cells": [
  {
   "cell_type": "code",
   "execution_count": 1,
   "metadata": {},
   "outputs": [],
   "source": [
    "import copy\n",
    "import numpy as np\n",
    "import pandas as pd\n",
    "import os.path\n",
    "from pathlib import Path\n",
    "import shutil\n",
    "import matplotlib.pyplot as plt\n",
    "import matplotlib.lines as mlines"
   ]
  },
  {
   "cell_type": "code",
   "execution_count": 2,
   "metadata": {},
   "outputs": [],
   "source": [
    "prefix = \"xxx\"\n",
    "bandfile = \"xxx.band.txt\"\n",
    "fermi_level = 0\n",
    "symm_point_list = [\"Γ\"]\n",
    "symm_position_list = [ 0 ]"
   ]
  },
  {
   "cell_type": "code",
   "execution_count": null,
   "metadata": {},
   "outputs": [],
   "source": [
    "band = pd.read_csv(bandfile,sep=\" \",header=None)\n",
    "symm_position_list = [ k/symm_position_list[-1] for k in symm_position_list ]\n",
    "symm_position_list = [ k*band[0].values[-1]/symm_position_list[-1] for k in symm_position_list ]\n",
    "band = band.iloc[:,:]"
   ]
  },
  {
   "cell_type": "markdown",
   "metadata": {},
   "source": []
  },
  {
   "cell_type": "code",
   "execution_count": null,
   "metadata": {},
   "outputs": [],
   "source": [
    "y_RNG = [-6,6]\n",
    "\n",
    "fig = plt.figure(figsize=(8,5))\n",
    "ax = fig.add_subplot(111)\n",
    "\n",
    "ax = band.plot(x=band.columns[0],legend=False,ylim=y_RNG,color=\"red\",ax=ax)\n",
    "\n",
    "red_line = mlines.Line2D([], [], color='red',label='SCF')\n",
    "\n",
    "ax.set_xlabel(\"\")\n",
    "ax.set_ylabel(\"Energy [eV]\",fontsize=18)\n",
    "ax.set_xticks(symm_position_list)\n",
    "ax.set_xticklabels(symm_point_list)\n",
    "ax.tick_params(labelsize=18)\n",
    "ax.axhline(y=0,color='black',linestyle=':')\n",
    "for k in symm_position_list:\n",
    "    ax.axvline(x=k,color='black',linestyle=':')\n",
    "ax.set_xlim([symm_position_list[0],symm_position_list[-1]])\n",
    "ax.tick_params(direction='in', length=6, width=2,pad=10)\n",
    "plt.tight_layout()\n",
    "\n",
    "fig.savefig( prefix+\".band.pdf\",bbox_inches=\"tight\", pad_inches=0.0, dpi=300)"
   ]
  },
  {
   "cell_type": "code",
   "execution_count": null,
   "metadata": {},
   "outputs": [],
   "source": []
  },
  {
   "cell_type": "code",
   "execution_count": null,
   "metadata": {},
   "outputs": [],
   "source": []
  }
 ],
 "metadata": {
  "interpreter": {
   "hash": "09d953d1519412b88b5277435240a3a7f5487fd3837dfe7a3dc12e7b4edd829a"
  },
  "kernelspec": {
   "display_name": "Python 3.8.8 64-bit ('base': conda)",
   "name": "python3"
  },
  "language_info": {
   "codemirror_mode": {
    "name": "ipython",
    "version": 3
   },
   "file_extension": ".py",
   "mimetype": "text/x-python",
   "name": "python",
   "nbconvert_exporter": "python",
   "pygments_lexer": "ipython3",
   "version": "3.8.8"
  }
 },
 "nbformat": 4,
 "nbformat_minor": 2
}
