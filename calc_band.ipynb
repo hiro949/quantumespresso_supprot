{
 "cells": [
  {
   "cell_type": "code",
   "execution_count": 2,
   "metadata": {},
   "outputs": [],
   "source": [
    "import numpy as np\n",
    "import scipy.linalg as LA\n",
    "import pandas as pd\n",
    "import copy\n",
    "import os\n",
    "import time\n",
    "import importlib\n",
    "import sys\n",
    "import matplotlib.pyplot as plt\n",
    "import matplotlib as mpl\n",
    "from matplotlib.path import Path\n",
    "import matplotlib.patches as patches\n",
    "from matplotlib.colors import ListedColormap\n",
    "from matplotlib import ticker\n",
    "\n",
    "import convert_hr_file as HRtoDF\n",
    "#importlib.reload()"
   ]
  },
  {
   "cell_type": "code",
   "execution_count": 3,
   "metadata": {},
   "outputs": [],
   "source": [
    "from joblib import Parallel, delayed\n",
    "import functools\n",
    "\n",
    "def parallel( iteration, Njob, Nver, func  ):\n",
    "    return Parallel(n_jobs=Njob,verbose=Nver)( [delayed(func)(i) for i in iteration ] )"
   ]
  },
  {
   "cell_type": "code",
   "execution_count": 17,
   "metadata": {},
   "outputs": [],
   "source": [
    "prefix = \"xxx\"\n",
    "hr_file = \"./xxx_hr.dat\"\n",
    "n_skip = 0 # # of the header part to skip\n",
    "fermi = 0\n",
    "# input the same structure with the .win file: bravais vectors, unitcell, orbitals\n",
    "\n",
    "bravais = np.array([ [ 0.866025403784439,  -0.500000000000000,   0.000000000000000 ],\n",
    "                    [0.000000000000000,   1.000000000000000,   0.000000000000000 ],\n",
    "                    [ 0.000000000000000,   0.000000000000000,   1 ] ])\n",
    "unitcell    = np.array([ [ 0.333333333333333 ,  0.666666666666667,   0.250000000000000 ],\n",
    "                        [ 0.666666666666667,   0.333333333333333,   0.750000000000000 ] ])\n",
    "unitcell = [ np.dot(bravais.T,r) for r in unitcell ]\n",
    "orbital_list = [\"dzx\",\"dyz\",\"dxy\",\"dz2\",\"dx2y2\"]\n",
    "\n",
    "size = 20 # row(=column) size of the Hamiltonian H(k) \n",
    "\n",
    "# symmetric points in the wave number space\n",
    "k_labels = [\"Γ\",\"X\"]\n",
    "G = [ 0, 0, 0 ]\n",
    "X = [ 0.5, 0, 0 ]\n",
    "k_symm = np.array([ G,X ])\n",
    "\n",
    "#be careful of the order of orbital\n",
    "df_hop = HRtoDF.hr_file_to_df_hop( hr_file, n_skip, bravais, unitcell, orbital_list )\n",
    "output_band = prefix + \"_wf_band.csv\""
   ]
  },
  {
   "cell_type": "code",
   "execution_count": 6,
   "metadata": {},
   "outputs": [],
   "source": [
    "def reciprocal( bravais_T ):\n",
    "    reciprocal = np.zeros((3,3))\n",
    "    deno = LA.det( bravais_T.T )\n",
    "    for i in [0,1,2]:\n",
    "        reciprocal[i] = np.cross( bravais_T[(i+1)%3], bravais_T[(i+2)%3] )/deno\n",
    "    return reciprocal\n",
    "\n",
    "def k_xyz_arr_to_k_crys_arr( k_xyz_arr, bravais ):\n",
    "    recip = reciprocal( bravais )\n",
    "    return np.array([ np.dot( LA.inv(recip).T, k ).tolist() for k in k_xyz_arr ])\n",
    "\n",
    "def add_k_on_way( k_arr0, N ):\n",
    "    k_list = []\n",
    "    for i in range( len(k_arr0) - 1 ):\n",
    "        dk = ( k_arr0[i+1]-k_arr0[i] )/N\n",
    "        for n in range(N):\n",
    "            k_list += [ (k_arr0[i] + n*dk).tolist() ]\n",
    "    k_list += [ k_arr0[-1].tolist() ]\n",
    "    return np.array(k_list)\n",
    "\n",
    "\n",
    "def calc_k_trace( k_arr, bravais ):\n",
    "    recip = reciprocal( bravais )\n",
    "    k_sum = 0\n",
    "    k_trace_list = [0]\n",
    "    for i in range( 1, len(k_arr) ):\n",
    "        k_sum += LA.norm( np.dot(recip.T,k_arr[i]-k_arr[i-1]), 2 )\n",
    "        k_trace_list += [k_sum]\n",
    "    if( len(k_trace_list) > 1 ): k_trace_list = [ K/k_trace_list[-1] for K in k_trace_list ]\n",
    "    return k_trace_list\n",
    "\n",
    "def make_hamiltonian_list( k_arr, df_hop, size, fermi ):\n",
    "    hami_list = [ np.zeros((size,size),dtype=np.complex128) for i in range( len(k_arr) ) ]\n",
    "    for n_row,sr in df_hop[ abs(df_hop[\"hop\"])>1e-4 ].iterrows():\n",
    "        an = np.array([ sr['a1'], sr['a2'], sr['a3'] ])\n",
    "        t = sr['hop']\n",
    "        row = sr['n_band1']\n",
    "        col = sr['n_band2']\n",
    "        for i, k in enumerate( k_arr ):\n",
    "            phase = 2*np.pi*np.dot(an,k)\n",
    "            hami_list[i][row,col] += t*( np.cos(phase) + 1j*np.sin(phase) )        \n",
    "    return [ h - fermi*np.identity(size) for h in hami_list ]\n",
    "\n",
    "def calc_band( k_arr, df_hop, size, fermi, bravais ):\n",
    "    start = time.time()\n",
    "    hami_list = make_hamiltonian_list( k_arr, df_hop, size, fermi )\n",
    "    #band_list = [ LA.eigvalsh( h ).tolist() for h in hami_list ]\n",
    "    band_list = Parallel(n_jobs=-2,verbose=4)( [delayed(LA.eigvalsh)(h) for h in hami_list ] )\n",
    "    band_list = [ Ek.tolist() for Ek in band_list ]\n",
    "    end = time.time()\n",
    "    print( \"{0} sec.\".format( end - start ) )\n",
    "    return pd.DataFrame( band_list, index = calc_k_trace( k_arr, bravais ) )"
   ]
  },
  {
   "cell_type": "code",
   "execution_count": 7,
   "metadata": {},
   "outputs": [],
   "source": [
    "# add intermidiate points between symmetric points in the k space\n",
    "k_arr = add_k_on_way( k_symm, 20 )"
   ]
  },
  {
   "cell_type": "code",
   "execution_count": null,
   "metadata": {},
   "outputs": [],
   "source": [
    "df_band = calc_band( k_arr, df_hop, size, fermi, bravais )"
   ]
  },
  {
   "cell_type": "code",
   "execution_count": null,
   "metadata": {},
   "outputs": [],
   "source": [
    "df_band"
   ]
  },
  {
   "cell_type": "code",
   "execution_count": 138,
   "metadata": {},
   "outputs": [],
   "source": [
    "df_band.to_csv(output_band)"
   ]
  },
  {
   "cell_type": "code",
   "execution_count": null,
   "metadata": {},
   "outputs": [],
   "source": [
    "y_RNG = [-3,3]\n",
    "symm_point_list = [\"Γ\",\"X\"]\n",
    "symm_position_list = [ 0, 0.5774 ]\n",
    "symm_position_list = [ k/symm_position_list[-1] for k in symm_position_list ]\n",
    "\n",
    "fig = plt.figure(figsize=(8,5))\n",
    "ax = fig.add_subplot(111)\n",
    "\n",
    "ax = df_band.plot(legend=False,color=\"red\",lw=1,ax=ax)\n",
    "\n",
    "ax.set_xlabel(\"\")\n",
    "ax.set_ylabel(\"Energy [eV]\",fontsize=18)\n",
    "ax.set_xticks(symm_position_list)\n",
    "#ax.set_xticklabels(symm_point_list)\n",
    "ax.tick_params(labelsize=18)\n",
    "ax.axhline(y=0,color='black',linestyle=':')\n",
    "for k in symm_position_list:\n",
    "    ax.axvline(x=k,color='black',linestyle=':')\n",
    "ax.set_xlim([symm_position_list[0],symm_position_list[-1]])\n",
    "ax.tick_params(direction='in', length=6, width=2,pad=10)\n",
    "plt.tight_layout()\n",
    "plt.ylim(y_RNG)\n",
    "fig.savefig( prefix+\".band_wf.pdf\",bbox_inches=\"tight\", pad_inches=0.0, dpi=300)"
   ]
  },
  {
   "cell_type": "code",
   "execution_count": null,
   "metadata": {},
   "outputs": [],
   "source": []
  }
 ],
 "metadata": {
  "kernelspec": {
   "display_name": "Python 3",
   "language": "python",
   "name": "python3"
  },
  "language_info": {
   "codemirror_mode": {
    "name": "ipython",
    "version": 3
   },
   "file_extension": ".py",
   "mimetype": "text/x-python",
   "name": "python",
   "nbconvert_exporter": "python",
   "pygments_lexer": "ipython3",
   "version": "3.8.8"
  }
 },
 "nbformat": 4,
 "nbformat_minor": 2
}
